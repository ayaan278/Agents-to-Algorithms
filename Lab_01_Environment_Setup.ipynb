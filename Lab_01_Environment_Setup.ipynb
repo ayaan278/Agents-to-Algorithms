{
 "cells": [
  {
   "cell_type": "markdown",
   "metadata": {},
   "source": [
    "<img src=\"./Logo.png\" style=\"height: 150px; width: 150px\" align=left> \n"
   ]
  },
  {
   "cell_type": "markdown",
   "metadata": {},
   "source": [
    "# **AI Workshop: From Agents to Intelligent Search**\n",
    "\n",
    "## - Led by Ayaan Ahmad\n",
    "\n",
    "### A hands-on guide on building and programming intelligent agents to solve complex problems."
   ]
  },
  {
   "cell_type": "markdown",
   "metadata": {},
   "source": [
    "## Introduction: What is an Agent?\n",
    "\n",
    "In AI, an agent is anything that can perceive its environment through sensors and act upon that environment through actuators.  For our workshop, we will create a simple agent and place it in a maze. The maze is our environment, and the agent's goal is to find a path from a starting point to a destination. This simple model is a powerful way to understand the core concepts behind much more complex AI systems, like the ones used in legal tech or logistics.\n",
    "\n",
    "We will build this in three parts:\n",
    "\n",
    "**The World and The Agent:** We will use Object-Oriented Programming (OOP) to define our agent and the ``pyamaze library`` to create the environment.\n",
    "\n",
    "**Uninformed Search:** We will program our agent to find the exit using \"blind\" search methods like Depth-First Search (DFS) and Breadth-First Search (BFS).\n",
    "\n",
    "**Informed Search:** We will make our agent \"intelligent\" by giving it a heuristic, allowing it to use the A* Search algorithm to find the optimal path efficiently.\n"
   ]
  },
  {
   "cell_type": "markdown",
   "metadata": {},
   "source": [
    "# AI Workshop - Lab 1: The World and The Agent\n",
    "\n",
    "Welcome! In this first lab, we will build the environment for our AI agent. \n",
    "The goal is to create a single, standardized maze that we will use for all subsequent labs. \n",
    "This ensures we are making a fair comparison between different search algorithms.\n",
    "\n",
    "We will:\n",
    "1. Import all necessary libraries for the entire workshop.\n",
    "2. Generate a 25x25 maze.\n",
    "3. Save the maze's data to a file named `workshop_maze.csv`.\n",
    "4. Save a visual of the blank maze as `blank_maze.png`."
   ]
  },
  {
   "cell_type": "markdown",
   "metadata": {},
   "source": [
    "## Install Libraries"
   ]
  },
  {
   "cell_type": "code",
   "execution_count": null,
   "metadata": {},
   "outputs": [],
   "source": [
    "pip install Pillow"
   ]
  },
  {
   "cell_type": "markdown",
   "metadata": {},
   "source": [
    "### Importing Libraries"
   ]
  },
  {
   "cell_type": "code",
   "execution_count": 1,
   "metadata": {},
   "outputs": [],
   "source": [
    "# 1. Import Libraries\n",
    "from pyamaze import maze, agent, COLOR, textLabel\n",
    "import os\n",
    "import glob\n",
    "from PIL import Image\n",
    "import time\n",
    "import pandas as pd\n",
    "import matplotlib.pyplot as plt\n",
    "import seaborn as sns\n",
    "from queue import PriorityQueue"
   ]
  },
  {
   "cell_type": "markdown",
   "metadata": {},
   "source": [
    "### 1.1 - The Environment: Creating a Maze\n",
    "\n",
    "Now that we have a concept for an agent, let's build its environment. We will use the pyamaze library to quickly generate complex mazes.\n",
    "\n",
    "Key Concept: For our workshop to be consistent, we must compare our search algorithms on the exact same maze. Therefore, the first thing we'll do is create a maze and save it to a file. All subsequent parts of the workshop will load this same file."
   ]
  },
  {
   "cell_type": "code",
   "execution_count": 2,
   "metadata": {},
   "outputs": [
    {
     "name": "stdout",
     "output_type": "stream",
     "text": [
      "Maze data saved and standardized as 'workshop_maze.csv'\n",
      "Could not save image. Error: invalid command name \".!canvas\"\n"
     ]
    }
   ],
   "source": [
    "# This cell creates and saves our standard maze file and a base image.\n",
    "m = maze(25, 25)\n",
    "m.CreateMaze(loopPercent=20, saveMaze=True)\n",
    "\n",
    "# --- Automatic File Renaming for CSV ---\n",
    "list_of_files = glob.glob('./*.csv') \n",
    "latest_file = max(list_of_files, key=os.path.getctime)\n",
    "standard_name = 'workshop_maze.csv'\n",
    "\n",
    "if os.path.exists(standard_name):\n",
    "    os.remove(standard_name)\n",
    "os.rename(latest_file, standard_name)\n",
    "print(f\"Maze data saved and standardized as '{standard_name}'\")\n",
    "\n",
    "# --- Save the visual of the blank maze ---\n",
    "try:\n",
    "    # We need to run the maze to generate the canvas for saving\n",
    "    m.run()\n",
    "    canvas = m._canvas\n",
    "    canvas.postscript(file=\"blank_maze.eps\", colormode='color')\n",
    "    img = Image.open(\"blank_maze.eps\")\n",
    "    img.save(\"blank_maze.png\", \"png\")\n",
    "    os.remove(\"blank_maze.eps\")\n",
    "    print(\"Successfully saved blank maze as 'blank_maze.png'\")\n",
    "except Exception as e:\n",
    "    print(f\"Could not save image. Error: {e}\")\n",
    "\n",
    "# You can close the maze window after it appears."
   ]
  },
  {
   "cell_type": "markdown",
   "metadata": {},
   "source": [
    "### 1.2 - Placing an Agent in the Maze\n",
    "\n",
    "Just as you requested, we can also save a visual representation of the maze as a PNG file. The pyamaze library uses a ``tkinter canvas``, which we can save as an image.\n",
    "\n",
    "Note: This requires the Pillow library. If you don't have it, run ``pip install Pillow`` in your terminal. On some systems (like Windows), you may also need to install Ghostscript for this to work correctly."
   ]
  },
  {
   "cell_type": "code",
   "execution_count": null,
   "metadata": {},
   "outputs": [
    {
     "name": "stdout",
     "output_type": "stream",
     "text": [
      "Agent is ready at the starting position!\n"
     ]
    }
   ],
   "source": [
    "# We create a new maze object from our saved file\n",
    "m = maze()\n",
    "m.CreateMaze(loadMaze='workshop_maze.csv')\n",
    "\n",
    "# And we place a new agent at the starting position (bottom-right corner)\n",
    "a = agent(m, x=15, y=15, footprints=True, color=COLOR.blue)\n",
    "\n",
    "print(\"Agent is ready at the starting position!\")\n",
    "m.run()"
   ]
  }
 ],
 "metadata": {
  "kernelspec": {
   "display_name": "Python 3",
   "language": "python",
   "name": "python3"
  },
  "language_info": {
   "codemirror_mode": {
    "name": "ipython",
    "version": 3
   },
   "file_extension": ".py",
   "mimetype": "text/x-python",
   "name": "python",
   "nbconvert_exporter": "python",
   "pygments_lexer": "ipython3",
   "version": "3.8.8"
  }
 },
 "nbformat": 4,
 "nbformat_minor": 4
}
