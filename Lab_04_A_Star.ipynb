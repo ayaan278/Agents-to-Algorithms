{
 "cells": [
  {
   "cell_type": "markdown",
   "metadata": {},
   "source": [
    "# **AI Workshop: From Agents to Intelligent Search**\n",
    "\n",
    "## - Led by Ayaan Ahmad\n",
    "\n",
    "### A hands-on guide on building and programming intelligent agents to solve complex problems."
   ]
  },
  {
   "cell_type": "markdown",
   "metadata": {},
   "source": [
    "# AI Workshop - Lab 4: A* (A-Star) Search\n",
    "\n",
    "This is our \"intelligent\" algorithm. A* uses a heuristic (an educated guess) \n",
    "to find the optimal path much more efficiently than BFS.\n",
    "\n",
    "We will:\n",
    "1. Load our standard maze.\n",
    "2. Define the heuristic and the A* algorithm.\n",
    "3. Measure its performance.\n",
    "4. Append the results to `performance_results.csv`.\n",
    "5. Visualize its focused search path."
   ]
  },
  {
   "cell_type": "markdown",
   "metadata": {},
   "source": [
    "## Install Libraries"
   ]
  },
  {
   "cell_type": "code",
   "execution_count": null,
   "metadata": {},
   "outputs": [],
   "source": [
    "pip install Pillow"
   ]
  },
  {
   "cell_type": "markdown",
   "metadata": {},
   "source": [
    "### Importing Libraries"
   ]
  },
  {
   "cell_type": "code",
   "execution_count": 1,
   "metadata": {},
   "outputs": [],
   "source": [
    "from pyamaze import maze, agent, COLOR\n",
    "import os\n",
    "import glob\n",
    "from PIL import Image\n",
    "from queue import PriorityQueue\n",
    "import time # To measure execution time\n",
    "import pandas as pd # To handle CSV data\n",
    "import matplotlib.pyplot as plt # For plotting\n",
    "import seaborn as sns # For better visualizations\n",
    "\n",
    "\n",
    "# Create a list to store performance results\n",
    "performance_results = []"
   ]
  },
  {
   "cell_type": "markdown",
   "metadata": {},
   "source": [
    "# Part 3: Informed Search (Finding a Path Intelligently)\n",
    "\n",
    "Uninformed searches are exhaustive. Informed search algorithms use problem-specific knowledge, called a heuristic, to find solutions more efficiently. A heuristic is an \"educated guess\" or a rule of thumb to guide the search."
   ]
  },
  {
   "cell_type": "markdown",
   "metadata": {},
   "source": [
    "### 3.1 - A* Search\n",
    "\n",
    "A* Search is one of the most popular and effective informed search algorithms. It combines the cost to reach a node with an estimated cost to get from that node to the goal.\n",
    "\n",
    "``g(n)`` = The actual cost of the path from the start node to node n.\n",
    "\n",
    "``h(n)`` = The heuristic; an estimated cost of the cheapest path from node n to the goal.\n",
    "\n",
    "``f(n) = g(n) + h(n)`` = The estimated cost of the cheapest solution through n.\n",
    "\n",
    "For our maze, we will use the Manhattan distance as our heuristic. It's the distance between two points measured along axes at right angles (like walking on city blocks)."
   ]
  },
  {
   "cell_type": "code",
   "execution_count": 2,
   "metadata": {},
   "outputs": [],
   "source": [
    "# The Heuristic Function (Manhattan Distance)\n",
    "def h(cell1, cell2):\n",
    "    x1, y1 = cell1; x2, y2 = cell2\n",
    "    return abs(x1 - x2) + abs(y1 - y2)\n",
    "\n",
    "# The Heuristic Function (Manhattan Distance)\n",
    "def h(cell1, cell2):\n",
    "    x1, y1 = cell1; x2, y2 = cell2\n",
    "    return abs(x1 - x2) + abs(y1 - y2)\n",
    "\n",
    "def aStar(m):\n",
    "    start = (m.rows, m.cols)\n",
    "    goal = (1, 1)\n",
    "    g_score = {cell: float('inf') for cell in m.grid}; g_score[start] = 0\n",
    "    f_score = {cell: float('inf') for cell in m.grid}; f_score[start] = h(start, goal)\n",
    "    pq = PriorityQueue(); pq.put((f_score[start], h(start, goal), start))\n",
    "    aPath = {}\n",
    "    explored_cells = [] # Added tracking for all processed cells\n",
    "\n",
    "    while not pq.empty():\n",
    "        currCell = pq.get()[2]\n",
    "        explored_cells.append(currCell) # Record cell as it's processed\n",
    "        \n",
    "        # Goal check removed to allow for full exploration\n",
    "        if currCell == goal: break\n",
    "        \n",
    "        for d in \"ESNW\":\n",
    "            if m.maze_map[currCell][d]:\n",
    "                if d == 'E': childCell = (currCell[0], currCell[1] + 1)\n",
    "                elif d == 'W': childCell = (currCell[0], currCell[1] - 1)\n",
    "                elif d == 'S': childCell = (currCell[0] + 1, currCell[1])\n",
    "                elif d == 'N': childCell = (currCell[0] - 1, currCell[1])\n",
    "                \n",
    "                temp_g_score = g_score[currCell] + 1\n",
    "                temp_f_score = temp_g_score + h(childCell, goal)\n",
    "                \n",
    "                if temp_f_score < f_score[childCell]:\n",
    "                    g_score[childCell], f_score[childCell] = temp_g_score, temp_f_score\n",
    "                    pq.put((temp_f_score, h(childCell, goal), childCell))\n",
    "                    aPath[childCell] = currCell\n",
    "                    \n",
    "    # After full exploration, reconstruct the forward path\n",
    "    fwdPath = {}\n",
    "    cell = (1, 1)\n",
    "    if cell in aPath or cell == start:\n",
    "        while cell != start:\n",
    "            fwdPath[aPath[cell]] = cell\n",
    "            cell = aPath[cell]\n",
    "            \n",
    "    # Return the path and the complete list of explored cells\n",
    "    return fwdPath, explored_cells"
   ]
  },
  {
   "cell_type": "code",
   "execution_count": 3,
   "metadata": {},
   "outputs": [
    {
     "name": "stdout",
     "output_type": "stream",
     "text": [
      "A* completed in 0.005546 seconds. Path length: 72. Explored cells: 318\n",
      "A* performance data saved to 'performance_results.csv'\n"
     ]
    }
   ],
   "source": [
    "# --- Run A* ---\n",
    "m = maze()\n",
    "m.CreateMaze(loadMaze='workshop_maze.csv')\n",
    "\n",
    "# --- Measure Execution Time ---\n",
    "start_time = time.time()\n",
    "final_path, explored_cells = aStar(m)\n",
    "end_time = time.time()\n",
    "astar_time = end_time - start_time\n",
    "print(f\"A* completed in {astar_time:.6f} seconds. Path length: {len(final_path)}. Explored cells: {len(explored_cells)}\")\n",
    "\n",
    "time_taken = end_time - start_time\n",
    "explored_count = len(explored_cells)\n",
    "path_length = len(final_path)\n",
    "\n",
    "# Save Metrics to CSV\n",
    "results_file = 'performance_results.csv'\n",
    "new_data = {'Algorithm': 'A*', 'Time (s)': time_taken, 'Explored Cells': explored_count, 'Path Length': path_length}\n",
    "if os.path.exists(results_file):\n",
    "    df = pd.read_csv(results_file)\n",
    "    df = df[df.Algorithm != 'A*']\n",
    "    df = pd.concat([df, pd.DataFrame([new_data])], ignore_index=True)\n",
    "else:\n",
    "    df = pd.DataFrame([new_data])\n",
    "df.to_csv(results_file, index=False)\n",
    "print(f\"A* performance data saved to '{results_file}'\")\n",
    "\n",
    "# --- 1. Demo the SEARCH path ---\n",
    "explored_path = {explored_cells[i]: explored_cells[i+1] for i in range(len(explored_cells)-1)}\n",
    "search_agent = agent(m, footprints=True, color=COLOR.cyan, filled=True, shape='square')\n",
    "m.tracePath({search_agent: explored_path})\n",
    "\n",
    "# --- 2. Demo the FINAL path ---\n",
    "path_agent = agent(m, footprints=True, color=COLOR.blue)\n",
    "m.tracePath({path_agent: final_path})"
   ]
  },
  {
   "cell_type": "code",
   "execution_count": null,
   "metadata": {},
   "outputs": [],
   "source": [
    "m.run()"
   ]
  },
  {
   "cell_type": "markdown",
   "metadata": {},
   "source": [
    "Observation: A* finds the same optimal path as BFS, but it explores a much smaller portion of the maze, making it far more efficient. It uses its \"educated guess\" to stay focused on paths that seem to be heading toward the goal."
   ]
  }
 ],
 "metadata": {
  "kernelspec": {
   "display_name": "Python 3",
   "language": "python",
   "name": "python3"
  },
  "language_info": {
   "codemirror_mode": {
    "name": "ipython",
    "version": 3
   },
   "file_extension": ".py",
   "mimetype": "text/x-python",
   "name": "python",
   "nbconvert_exporter": "python",
   "pygments_lexer": "ipython3",
   "version": "3.8.8"
  }
 },
 "nbformat": 4,
 "nbformat_minor": 4
}
