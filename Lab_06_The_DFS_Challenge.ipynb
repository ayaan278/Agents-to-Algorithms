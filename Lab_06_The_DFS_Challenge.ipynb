{
 "cells": [
  {
   "cell_type": "markdown",
   "metadata": {},
   "source": [
    "# **AI Workshop: From Agents to Intelligent Search**\n",
    "\n",
    "## - Led by Ayaan Ahmad\n",
    "\n",
    "### A hands-on guide on building and programming intelligent agents to solve complex problems."
   ]
  },
  {
   "cell_type": "markdown",
   "metadata": {},
   "source": [
    "# AI Workshop - Lab 6: The DFS Challenge (Bonus)\n",
    "\n",
    "Can a \"dumb\" algorithm ever beat a \"smart\" one?\n",
    "\n",
    "In this challenge, we'll run all three algorithms on a specially designed maze. \n",
    "This maze has a long, winding optimal path from the bottom-right start (45,45) \n",
    "to the top-left goal (1,1), which heavily favors the West/North priority of our DFS implementation.\n",
    "\n",
    "Let's see what happens..."
   ]
  },
  {
   "cell_type": "markdown",
   "metadata": {},
   "source": [
    "## Install Libraries"
   ]
  },
  {
   "cell_type": "code",
   "execution_count": null,
   "metadata": {},
   "outputs": [],
   "source": [
    "pip install Pillow"
   ]
  },
  {
   "cell_type": "markdown",
   "metadata": {},
   "source": [
    "### Importing Libraries"
   ]
  },
  {
   "cell_type": "code",
   "execution_count": 1,
   "metadata": {},
   "outputs": [],
   "source": [
    "# 1. Import Libraries\n",
    "from pyamaze import maze, agent, COLOR, textLabel\n",
    "import os\n",
    "import glob\n",
    "from PIL import Image\n",
    "import time\n",
    "import pandas as pd\n",
    "import matplotlib.pyplot as plt\n",
    "import seaborn as sns\n",
    "from queue import PriorityQueue"
   ]
  },
  {
   "cell_type": "markdown",
   "metadata": {},
   "source": [
    "# Part 5: Understanding the problem\n",
    "\n",
    "Today, we've seen how different algorithms can solve the same problem with vastly different strategies and efficiencies.\n",
    "\n",
    "DFS is simple but often finds suboptimal paths.\n",
    "\n",
    "BFS finds the shortest path but can waste time exploring in every direction.\n",
    "\n",
    "A* provides the best of both worlds: it finds the optimal path efficiently by using an intelligent heuristic.\n",
    "\n",
    "Objective: To demonstrate a scenario where the \"dumbest\" algorithm wins, proving that the structure of the data is as important as the algorithm itself."
   ]
  },
  {
   "cell_type": "code",
   "execution_count": 2,
   "metadata": {},
   "outputs": [],
   "source": [
    "# (We include the function definitions here so this notebook can run independently)\n",
    "def DFS(m):\n",
    "    start = (m.rows, m.cols)\n",
    "    explored, frontier, dfsPath = [start], [start], {}\n",
    "    searchPath = []\n",
    "    while frontier:\n",
    "        currCell = frontier.pop()\n",
    "        searchPath.append(currCell)\n",
    "        if currCell == (1, 1): break\n",
    "        for d in \"ESNW\": # This results in a W -> N -> S -> E priority\n",
    "            if m.maze_map[currCell][d]:\n",
    "                if d == 'E': childCell = (currCell[0], currCell[1] + 1)\n",
    "                elif d == 'W': childCell = (currCell[0], currCell[1] - 1)\n",
    "                elif d == 'N': childCell = (currCell[0] - 1, currCell[1])\n",
    "                elif d == 'S': childCell = (currCell[0] + 1, currCell[1])\n",
    "                if childCell in explored: continue\n",
    "                explored.append(childCell)\n",
    "                frontier.append(childCell)\n",
    "                dfsPath[childCell] = currCell\n",
    "    fwdPath = {}\n",
    "    cell = (1, 1)\n",
    "    while cell != start: fwdPath[dfsPath[cell]] = cell; cell = dfsPath[cell]\n",
    "    return fwdPath, searchPath\n",
    "\n",
    "def BFS(m):\n",
    "    start = (m.rows, m.cols)\n",
    "    explored = [start]\n",
    "    frontier = [start]\n",
    "    bfsPath = {}\n",
    "\n",
    "    while len(frontier) > 0:\n",
    "        currCell = frontier.pop(0)\n",
    "        # Goal check removed to allow for full exploration\n",
    "        if currCell == (1, 1):\n",
    "            break\n",
    "        for d in \"ESNW\":\n",
    "            if m.maze_map[currCell][d]:\n",
    "                if d == 'E': childCell = (currCell[0], currCell[1] + 1)\n",
    "                elif d == 'W': childCell = (currCell[0], currCell[1] - 1)\n",
    "                elif d == 'N': childCell = (currCell[0] - 1, currCell[1])\n",
    "                elif d == 'S': childCell = (currCell[0] + 1, currCell[1])\n",
    "                if childCell in explored: continue\n",
    "                explored.append(childCell)\n",
    "                frontier.append(childCell)\n",
    "                bfsPath[childCell] = currCell\n",
    "    fwdPath = {}\n",
    "    cell = (1, 1)\n",
    "    if cell in bfsPath or cell == start:\n",
    "        while cell != start:\n",
    "            fwdPath[bfsPath[cell]] = cell\n",
    "            cell = bfsPath[cell]\n",
    "    return fwdPath, explored\n",
    "\n",
    "def h(cell1, cell2):\n",
    "    x1, y1 = cell1; x2, y2 = cell2\n",
    "    return abs(x1 - x2) + abs(y1 - y2)\n",
    "\n",
    "def aStar(m):\n",
    "    start = (m.rows, m.cols)\n",
    "    g_score = {cell: float('inf') for cell in m.grid}; g_score[start] = 0\n",
    "    f_score = {cell: float('inf') for cell in m.grid}; f_score[start] = h(start, (1, 1))\n",
    "    pq = PriorityQueue(); pq.put((f_score[start], h(start, (1, 1)), start))\n",
    "    aPath, searchPath = {}, []\n",
    "    while not pq.empty():\n",
    "        currCell = pq.get()[2]\n",
    "        searchPath.append(currCell)\n",
    "        if currCell == (1, 1): break\n",
    "        for d in \"ESNW\":\n",
    "            if m.maze_map[currCell][d]:\n",
    "                if d == 'E': childCell = (currCell[0], currCell[1] + 1)\n",
    "                elif d == 'W': childCell = (currCell[0], currCell[1] - 1)\n",
    "                elif d == 'S': childCell = (currCell[0] + 1, currCell[1])\n",
    "                elif d == 'N': childCell = (currCell[0] - 1, currCell[1])\n",
    "                temp_g_score = g_score[currCell] + 1\n",
    "                temp_f_score = temp_g_score + h(childCell, (1, 1))\n",
    "                if temp_f_score < f_score[childCell]:\n",
    "                    g_score[childCell], f_score[childCell] = temp_g_score, temp_f_score\n",
    "                    pq.put((temp_f_score, h(childCell, (1, 1)), childCell))\n",
    "                    aPath[childCell] = currCell\n",
    "    fwdPath = {}\n",
    "    cell = (1, 1)\n",
    "    while cell != start: fwdPath[aPath[cell]] = cell; cell = aPath[cell]\n",
    "    return fwdPath, searchPath"
   ]
  },
  {
   "cell_type": "code",
   "execution_count": 3,
   "metadata": {},
   "outputs": [
    {
     "name": "stdout",
     "output_type": "stream",
     "text": [
      "DFS on challenge maze: Time=0.0010s, Explored=119, Path=94\n",
      "BFS on challenge maze: Time=0.0177s, Explored=554, Path=72\n",
      "A* on challenge maze: Time=0.0041s, Explored=318, Path=72\n",
      "\n",
      "--- Challenge Performance Data ---\n"
     ]
    },
    {
     "data": {
      "text/html": [
       "<div>\n",
       "<style scoped>\n",
       "    .dataframe tbody tr th:only-of-type {\n",
       "        vertical-align: middle;\n",
       "    }\n",
       "\n",
       "    .dataframe tbody tr th {\n",
       "        vertical-align: top;\n",
       "    }\n",
       "\n",
       "    .dataframe thead th {\n",
       "        text-align: right;\n",
       "    }\n",
       "</style>\n",
       "<table border=\"1\" class=\"dataframe\">\n",
       "  <thead>\n",
       "    <tr style=\"text-align: right;\">\n",
       "      <th></th>\n",
       "      <th>Algorithm</th>\n",
       "      <th>Time (s)</th>\n",
       "      <th>Explored Cells</th>\n",
       "      <th>Path Length</th>\n",
       "    </tr>\n",
       "  </thead>\n",
       "  <tbody>\n",
       "    <tr>\n",
       "      <th>0</th>\n",
       "      <td>DFS</td>\n",
       "      <td>0.001000</td>\n",
       "      <td>119</td>\n",
       "      <td>94</td>\n",
       "    </tr>\n",
       "    <tr>\n",
       "      <th>1</th>\n",
       "      <td>BFS</td>\n",
       "      <td>0.017750</td>\n",
       "      <td>554</td>\n",
       "      <td>72</td>\n",
       "    </tr>\n",
       "    <tr>\n",
       "      <th>2</th>\n",
       "      <td>A*</td>\n",
       "      <td>0.004129</td>\n",
       "      <td>318</td>\n",
       "      <td>72</td>\n",
       "    </tr>\n",
       "  </tbody>\n",
       "</table>\n",
       "</div>"
      ],
      "text/plain": [
       "  Algorithm  Time (s)  Explored Cells  Path Length\n",
       "0       DFS  0.001000             119           94\n",
       "1       BFS  0.017750             554           72\n",
       "2        A*  0.004129             318           72"
      ]
     },
     "metadata": {},
     "output_type": "display_data"
    },
    {
     "data": {
      "image/png": "[encoded data removed]",
      "text/plain": [
       "<Figure size 720x432 with 1 Axes>"
      ]
     },
     "metadata": {
      "needs_background": "light"
     },
     "output_type": "display_data"
    },
    {
     "data": {
      "image/png": "[encoded data removed]",
      "text/plain": [
       "<Figure size 720x432 with 2 Axes>"
      ]
     },
     "metadata": {
      "needs_background": "light"
     },
     "output_type": "display_data"
    }
   ],
   "source": [
    "# --- Run all algorithms on the challenge maze ---\n",
    "challenge_maze_file = 'workshop_maze.csv'\n",
    "challenge_results = []\n",
    "algorithms = {'DFS': DFS, 'BFS': BFS, 'A*': aStar}\n",
    "for name, func in algorithms.items():\n",
    "    m = maze(); m.CreateMaze(loadMaze=challenge_maze_file)\n",
    "    start_time = time.time()\n",
    "    final_path, explored_cells = func(m)\n",
    "    end_time = time.time()\n",
    "    \n",
    "    time_taken = end_time - start_time\n",
    "    explored_count = len(explored_cells)\n",
    "    path_length = len(final_path)\n",
    "    \n",
    "    challenge_results.append({'Algorithm': name, 'Time (s)': time_taken, 'Explored Cells': explored_count, 'Path Length': path_length})\n",
    "    print(f\"{name} on challenge maze: Time={time_taken:.4f}s, Explored={explored_count}, Path={path_length}\")\n",
    "\n",
    "# --- Step 3: The Final Showdown ---\n",
    "df_challenge = pd.DataFrame(challenge_results)\n",
    "results_file = 'challenge_results.csv'\n",
    "df_challenge.to_csv(results_file, index=False)\n",
    "\n",
    "print(f\"\\n--- Challenge Performance Data ---\")\n",
    "display(df_challenge)\n",
    "\n",
    "# --- Graph 1: Execution Time ---\n",
    "plt.figure(figsize=(10, 6))\n",
    "ax = sns.barplot(x='Algorithm', y='Time (s)', data=df_challenge, palette='plasma')\n",
    "ax.set_title('Challenge Maze: Execution Time', fontsize=16, fontweight='bold')\n",
    "plt.show()\n",
    "\n",
    "# --- Graph 2: Work vs. Solution Quality ---\n",
    "fig, ax1 = plt.subplots(figsize=(10, 6))\n",
    "sns.barplot(x='Algorithm', y='Explored Cells', data=df_challenge, ax=ax1, palette='magma', alpha=0.7)\n",
    "ax1.set_title('Challenge Maze: Work vs. Solution Quality', fontsize=16, fontweight='bold')\n",
    "ax2 = ax1.twinx()\n",
    "sns.lineplot(x='Algorithm', y='Path Length', data=df_challenge, ax=ax2, color='black', marker='o', sort=False)\n",
    "plt.show()"
   ]
  },
  {
   "cell_type": "markdown",
   "metadata": {},
   "source": [
    "## Conclusion\n",
    "\n",
    "The goal of this experiment was to showcase that there's no necessary good or bad algorithm, but it is the factor of understanding the problem to find the most optimal way to fit the algorithm in a way that fits our needs."
   ]
  }
 ],
 "metadata": {
  "kernelspec": {
   "display_name": "Python 3",
   "language": "python",
   "name": "python3"
  },
  "language_info": {
   "codemirror_mode": {
    "name": "ipython",
    "version": 3
   },
   "file_extension": ".py",
   "mimetype": "text/x-python",
   "name": "python",
   "nbconvert_exporter": "python",
   "pygments_lexer": "ipython3",
   "version": "3.8.8"
  }
 },
 "nbformat": 4,
 "nbformat_minor": 4
}
