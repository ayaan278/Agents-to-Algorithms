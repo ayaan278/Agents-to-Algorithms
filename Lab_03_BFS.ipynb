{
 "cells": [
  {
   "cell_type": "markdown",
   "metadata": {},
   "source": [
    "# **AI Workshop: From Agents to Intelligent Search**\n",
    "\n",
    "## - Led by Ayaan Ahmad\n",
    "\n",
    "### A hands-on guide on building and programming intelligent agents to solve complex problems."
   ]
  },
  {
   "cell_type": "markdown",
   "metadata": {},
   "source": [
    "# AI Workshop - Lab 3: Breadth-First Search (BFS)\n",
    "\n",
    "Now we'll implement BFS. It explores level-by-level, guaranteeing the shortest path.\n",
    "\n",
    "We will:\n",
    "1. Load our standard maze.\n",
    "2. Run the BFS algorithm.\n",
    "3. Measure its performance (time, explored cells, path length).\n",
    "4. Append these metrics to `performance_results.csv`.\n",
    "5. Visualize the extensive search path versus the optimal final path."
   ]
  },
  {
   "cell_type": "markdown",
   "metadata": {},
   "source": [
    "## Install Libraries"
   ]
  },
  {
   "cell_type": "code",
   "execution_count": null,
   "metadata": {},
   "outputs": [],
   "source": [
    "pip install Pillow"
   ]
  },
  {
   "cell_type": "markdown",
   "metadata": {},
   "source": [
    "### Importing Libraries"
   ]
  },
  {
   "cell_type": "code",
   "execution_count": 1,
   "metadata": {},
   "outputs": [],
   "source": [
    "from pyamaze import maze, agent, COLOR\n",
    "import os\n",
    "import glob\n",
    "from PIL import Image\n",
    "from queue import PriorityQueue\n",
    "import time # To measure execution time\n",
    "import pandas as pd # To handle CSV data\n",
    "import matplotlib.pyplot as plt # For plotting\n",
    "import seaborn as sns # For better visualizations\n",
    "\n",
    "# Create a list to store performance results\n",
    "performance_results = []"
   ]
  },
  {
   "cell_type": "markdown",
   "metadata": {},
   "source": [
    "### 2.2 - Breadth-First Search (BFS)\n",
    "\n",
    "BFS explores all neighbor nodes at the present depth prior to moving on to the nodes at the next depth level. It uses a FIFO (First-In, First-Out) strategy, like a queue at a grocery store. The first person in line is the first person to be served."
   ]
  },
  {
   "cell_type": "code",
   "execution_count": 2,
   "metadata": {},
   "outputs": [],
   "source": [
    "def BFS(m):\n",
    "    start = (m.rows, m.cols)\n",
    "    explored = [start]\n",
    "    frontier = [start]\n",
    "    bfsPath = {}\n",
    "\n",
    "    while len(frontier) > 0:\n",
    "        currCell = frontier.pop(0)\n",
    "        # Goal check removed to allow for full exploration\n",
    "        if currCell == (1, 1):\n",
    "            break\n",
    "        for d in \"ESNW\":\n",
    "            if m.maze_map[currCell][d]:\n",
    "                if d == 'E': childCell = (currCell[0], currCell[1] + 1)\n",
    "                elif d == 'W': childCell = (currCell[0], currCell[1] - 1)\n",
    "                elif d == 'N': childCell = (currCell[0] - 1, currCell[1])\n",
    "                elif d == 'S': childCell = (currCell[0] + 1, currCell[1])\n",
    "                if childCell in explored: continue\n",
    "                explored.append(childCell)\n",
    "                frontier.append(childCell)\n",
    "                bfsPath[childCell] = currCell\n",
    "    \n",
    "    # After full exploration, reconstruct the forward path\n",
    "    fwdPath = {}\n",
    "    cell = (1, 1)\n",
    "    if cell in bfsPath or cell == start:\n",
    "        while cell != start:\n",
    "            fwdPath[bfsPath[cell]] = cell\n",
    "            cell = bfsPath[cell]\n",
    "            \n",
    "    # Return the path and the complete list of explored cells\n",
    "    return fwdPath, explored"
   ]
  },
  {
   "cell_type": "code",
   "execution_count": 3,
   "metadata": {},
   "outputs": [
    {
     "name": "stdout",
     "output_type": "stream",
     "text": [
      "BFS completed in 0.012537 seconds. Path length: 72. Explored cells: 554\n",
      "BFS performance data saved to 'performance_results.csv'\n"
     ]
    }
   ],
   "source": [
    "# --- Run BFS ---\n",
    "m = maze()\n",
    "m.CreateMaze(loadMaze='workshop_maze.csv')\n",
    "\n",
    "# --- Measure Execution Time ---\n",
    "start_time = time.time()\n",
    "final_path, explored_cells = BFS(m)\n",
    "end_time = time.time()\n",
    "bfs_time = end_time - start_time\n",
    "print(f\"BFS completed in {bfs_time:.6f} seconds. Path length: {len(final_path)}. Explored cells: {len(explored_cells)}\")\n",
    "\n",
    "time_taken = end_time - start_time\n",
    "explored_count = len(explored_cells)\n",
    "path_length = len(final_path)\n",
    "\n",
    "# Save Metrics to CSV\n",
    "results_file = 'performance_results.csv'\n",
    "new_data = {'Algorithm': 'BFS', 'Time (s)': time_taken, 'Explored Cells': explored_count, 'Path Length': path_length}\n",
    "if os.path.exists(results_file):\n",
    "    df = pd.read_csv(results_file)\n",
    "    df = df[df.Algorithm != 'BFS']\n",
    "    df = pd.concat([df, pd.DataFrame([new_data])], ignore_index=True)\n",
    "else:\n",
    "    df = pd.DataFrame([new_data])\n",
    "df.to_csv(results_file, index=False)\n",
    "print(f\"BFS performance data saved to '{results_file}'\")\n",
    "\n",
    "# --- 1. Demo the SEARCH path ---\n",
    "explored_path = {explored_cells[i]: explored_cells[i+1] for i in range(len(explored_cells)-1)}\n",
    "search_agent = agent(m, footprints=True, color=COLOR.cyan, filled=True, shape='square')\n",
    "m.tracePath({search_agent: explored_path})\n",
    "\n",
    "# --- 2. Demo the FINAL path ---\n",
    "path_agent = agent(m, footprints=True, color=COLOR.red)\n",
    "m.tracePath({path_agent: final_path})"
   ]
  },
  {
   "cell_type": "code",
   "execution_count": null,
   "metadata": {},
   "outputs": [],
   "source": [
    "m.run()"
   ]
  },
  {
   "cell_type": "markdown",
   "metadata": {},
   "source": [
    "Observation: The BFS path is guaranteed to be the shortest in terms of the number of steps, but it had to explore a large area of the maze to find it."
   ]
  }
 ],
 "metadata": {
  "kernelspec": {
   "display_name": "Python 3",
   "language": "python",
   "name": "python3"
  },
  "language_info": {
   "codemirror_mode": {
    "name": "ipython",
    "version": 3
   },
   "file_extension": ".py",
   "mimetype": "text/x-python",
   "name": "python",
   "nbconvert_exporter": "python",
   "pygments_lexer": "ipython3",
   "version": "3.8.8"
  }
 },
 "nbformat": 4,
 "nbformat_minor": 4
}
