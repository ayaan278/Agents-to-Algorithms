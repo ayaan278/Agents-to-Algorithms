{
 "cells": [
  {
   "cell_type": "markdown",
   "metadata": {},
   "source": [
    "# **AI Workshop: From Agents to Intelligent Search**\n",
    "\n",
    "## - Led by Ayaan Ahmad\n",
    "\n",
    "### A hands-on guide on building and programming intelligent agents to solve complex problems."
   ]
  },
  {
   "cell_type": "markdown",
   "metadata": {},
   "source": [
    "# AI Workshop - Lab 2: Depth-First Search (DFS)\n",
    "\n",
    "In this lab, we will implement our first search algorithm, DFS.\n",
    "It explores as far as possible down one path before backtracking.\n",
    "\n",
    "We will:\n",
    "1. Load our standard maze from `workshop_maze.csv`.\n",
    "2. Run the DFS algorithm.\n",
    "3. Measure its execution time, the number of cells it explored, and the length of its final path.\n",
    "4. Save these metrics to `performance_results.csv`.\n",
    "5. Visualize both the search path and the final path."
   ]
  },
  {
   "cell_type": "markdown",
   "metadata": {},
   "source": [
    "## Install Libraries"
   ]
  },
  {
   "cell_type": "code",
   "execution_count": null,
   "metadata": {},
   "outputs": [],
   "source": [
    "pip install Pillow"
   ]
  },
  {
   "cell_type": "markdown",
   "metadata": {},
   "source": [
    "### Importing Libraries"
   ]
  },
  {
   "cell_type": "code",
   "execution_count": 3,
   "metadata": {},
   "outputs": [],
   "source": [
    "from pyamaze import maze, agent, COLOR\n",
    "import os\n",
    "import glob\n",
    "from PIL import Image\n",
    "from queue import PriorityQueue\n",
    "import time # To measure execution time\n",
    "import pandas as pd # To handle CSV data\n",
    "import matplotlib.pyplot as plt # For plotting\n",
    "import seaborn as sns # For better visualizations\n",
    "\n",
    "\n",
    "# Create a list to store performance results\n",
    "performance_results = []"
   ]
  },
  {
   "cell_type": "markdown",
   "metadata": {},
   "source": [
    "# Part 2: Uninformed Search (Finding a Path Blindly)\n",
    "\n",
    "Our agent is in the maze, but it doesn't know how to get to the goal at (1,1). **Uninformed search algorithms** are methods that search a space without any information about the cost or distance to the goal. They just systematically explore until a solution is found."
   ]
  },
  {
   "cell_type": "markdown",
   "metadata": {},
   "source": [
    "### 2.1 - Depth-First Search (DFS)\n",
    "DFS explores as far as possible down one branch before backtracking. It uses a LIFO (Last-In, First-Out) strategy, which is like a stack of plates. You put a new plate on top and you take the top one off first."
   ]
  },
  {
   "cell_type": "code",
   "execution_count": 15,
   "metadata": {},
   "outputs": [],
   "source": [
    "def DFS(m):\n",
    "    start = (m.rows, m.cols)\n",
    "    # The 'explored' list will track every cell visited in order\n",
    "    explored, frontier, dfsPath = [start], [start], {} \n",
    "    \n",
    "    while frontier:\n",
    "        currCell = frontier.pop()\n",
    "        # The goal check is removed to allow for full exploration\n",
    "        if currCell == (1, 1): \n",
    "             break\n",
    "                #ESNW -- Prioritizes WEST\n",
    "        for d in \"NWSE\":\n",
    "            if m.maze_map[currCell][d]:\n",
    "                if d == 'E': childCell = (currCell[0], currCell[1] + 1)\n",
    "                elif d == 'W': childCell = (currCell[0], currCell[1] - 1)\n",
    "                elif d == 'N': childCell = (currCell[0] - 1, currCell[1])\n",
    "                elif d == 'S': childCell = (currCell[0] + 1, currCell[1])\n",
    "                if childCell in explored: \n",
    "                    continue\n",
    "                explored.append(childCell) # Add to the main explored list\n",
    "                frontier.append(childCell)\n",
    "                dfsPath[childCell] = currCell\n",
    "                \n",
    "    # After full exploration, reconstruct the forward path\n",
    "    fwdPath = {}\n",
    "    cell = (1, 1)\n",
    "    # Check if the goal was reachable\n",
    "    if cell in dfsPath or cell == start:\n",
    "        while cell != start:\n",
    "            fwdPath[dfsPath[cell]] = cell\n",
    "            cell = dfsPath[cell]\n",
    "        \n",
    "    # Return both the final path and the list of all explored cells\n",
    "    return fwdPath, explored"
   ]
  },
  {
   "cell_type": "code",
   "execution_count": 18,
   "metadata": {},
   "outputs": [
    {
     "name": "stdout",
     "output_type": "stream",
     "text": [
      "DFS completed in 0.005999 seconds. Path length: 218. Explored cells: 493\n",
      "DFS performance data saved to 'performance_results.csv'\n"
     ]
    }
   ],
   "source": [
    "# --- Run DFS ---\n",
    "m = maze()\n",
    "m.CreateMaze(loadMaze='workshop_maze.csv')\n",
    "\n",
    "# --- Measure Execution Time ---\n",
    "start_time = time.time()\n",
    "final_path, explored_cells = DFS(m) \n",
    "end_time = time.time()\n",
    "dfs_time = end_time - start_time\n",
    "print(f\"DFS completed in {dfs_time:.6f} seconds. Path length: {len(final_path)}. Explored cells: {len(explored_cells)}\")\n",
    "\n",
    "time_taken = end_time - start_time\n",
    "explored_count = len(explored_cells)\n",
    "path_length = len(final_path)\n",
    "\n",
    "# Save Metrics to CSV\n",
    "results_file = 'performance_results.csv'\n",
    "new_data = {'Algorithm': 'DFS', 'Time (s)': time_taken, 'Explored Cells': explored_count, 'Path Length': path_length}\n",
    "if os.path.exists(results_file):\n",
    "    df = pd.read_csv(results_file)\n",
    "    df = df[df.Algorithm != 'DFS']\n",
    "    df = pd.concat([df, pd.DataFrame([new_data])], ignore_index=True)\n",
    "else:\n",
    "    df = pd.DataFrame([new_data])\n",
    "df.to_csv(results_file, index=False)\n",
    "print(f\"DFS performance data saved to '{results_file}'\")\n",
    "\n",
    "# --- 1. Demo the SEARCH path ---\n",
    "explored_path = {explored_cells[i]: explored_cells[i+1] for i in range(len(explored_cells)-1)}\n",
    "search_agent = agent(m, footprints=True, color=COLOR.cyan, filled=True, shape='square')\n",
    "m.tracePath({search_agent: explored_path})\n",
    "\n",
    "# --- 2. Demo the FINAL path ---\n",
    "path_agent = agent(m, footprints=True, color=COLOR.yellow)\n",
    "m.tracePath({path_agent: final_path})"
   ]
  },
  {
   "cell_type": "code",
   "execution_count": 6,
   "metadata": {},
   "outputs": [],
   "source": [
    "m.run()"
   ]
  },
  {
   "cell_type": "markdown",
   "metadata": {},
   "source": [
    "Observation: Notice how the DFS path is long and inefficient. It dives deep into the maze and takes many detours."
   ]
  }
 ],
 "metadata": {
  "kernelspec": {
   "display_name": "Python 3",
   "language": "python",
   "name": "python3"
  },
  "language_info": {
   "codemirror_mode": {
    "name": "ipython",
    "version": 3
   },
   "file_extension": ".py",
   "mimetype": "text/x-python",
   "name": "python",
   "nbconvert_exporter": "python",
   "pygments_lexer": "ipython3",
   "version": "3.8.8"
  }
 },
 "nbformat": 4,
 "nbformat_minor": 4
}
